{
 "cells": [
  {
   "cell_type": "code",
   "execution_count": 2,
   "metadata": {},
   "outputs": [],
   "source": [
    "from astropy.io import fits\n",
    "import matplotlib.pyplot as plt\n",
    "import matplotlib.patches as patches\n",
    "import numpy as np\n",
    "import os"
   ]
  },
  {
   "cell_type": "code",
   "execution_count": 4,
   "metadata": {},
   "outputs": [
    {
     "name": "stdout",
     "output_type": "stream",
     "text": [
      "Enter the working directory: /Users/thepoetoftwilight/Documents/SOFIA_FIFI_Cycle-8/Data/NGC_5253_sw_1/\n",
      "Enter the FITS file name: NGC_5253_sw_1.fits\n"
     ]
    }
   ],
   "source": [
    "sdir = str(input('Enter the working directory: '))\n",
    "fits_name = str(input('Enter the FITS file name: '))\n",
    "\n",
    "sdir_fluxmaps = sdir + 'Fluxmaps/'\n",
    "\n",
    "if not os.path.exists(sdir_fluxmaps):\n",
    "    os.makedirs(sdir_fluxmaps)"
   ]
  },
  {
   "cell_type": "code",
   "execution_count": 5,
   "metadata": {},
   "outputs": [],
   "source": [
    "hdulist = fits.open(sdir + fits_name)"
   ]
  },
  {
   "cell_type": "code",
   "execution_count": 6,
   "metadata": {},
   "outputs": [
    {
     "name": "stdout",
     "output_type": "stream",
     "text": [
      "Filename: /Users/thepoetoftwilight/Documents/SOFIA_FIFI_Cycle-8/Data/NGC_5253_sw_1/NGC_5253_sw_1.fits\n",
      "No.    Name      Ver    Type      Cards   Dimensions   Format\n",
      "  0  PRIMARY       1 PrimaryHDU     311   ()      \n",
      "  1  FLUX          1 ImageHDU        28   (33, 35, 56)   float64   \n",
      "  2  ERROR         1 ImageHDU        28   (33, 35, 56)   float64   \n",
      "  3  UNCORRECTED_FLUX    1 ImageHDU        28   (33, 35, 56)   float64   \n",
      "  4  UNCORRECTED_ERROR    1 ImageHDU        28   (33, 35, 56)   float64   \n",
      "  5  WAVELENGTH    1 ImageHDU         7   (56,)   float64   \n",
      "  6  X             1 ImageHDU         7   (33,)   float64   \n",
      "  7  Y             1 ImageHDU         7   (35,)   float64   \n",
      "  8  TRANSMISSION    1 ImageHDU         7   (56,)   float64   \n",
      "  9  RESPONSE      1 ImageHDU         7   (56,)   float32   \n",
      " 10  EXPOSURE_MAP    1 ImageHDU        28   (33, 35, 56)   int16   \n",
      " 11  UNSMOOTHED_TRANSMISSION    1 ImageHDU         8   (1540, 2)   float32   \n"
     ]
    }
   ],
   "source": [
    "hdulist.info()"
   ]
  },
  {
   "cell_type": "code",
   "execution_count": 23,
   "metadata": {},
   "outputs": [
    {
     "name": "stdout",
     "output_type": "stream",
     "text": [
      "-14.171510221445288 17.82848977855471\n",
      "-16.89234480905496 17.10765519094504\n"
     ]
    }
   ],
   "source": [
    "wavelengths = hdulist[5].data\n",
    "\n",
    "x_coords = hdulist[6].data\n",
    "x_min = x_coords[0]\n",
    "x_max = x_coords[len(x_coords)-1]\n",
    "\n",
    "print(x_min, x_max)\n",
    "\n",
    "y_coords = hdulist[7].data\n",
    "y_min = y_coords[0]\n",
    "y_max = y_coords[len(y_coords)-1]\n",
    "\n",
    "print(y_min, y_max)"
   ]
  },
  {
   "cell_type": "code",
   "execution_count": 8,
   "metadata": {},
   "outputs": [
    {
     "name": "stdout",
     "output_type": "stream",
     "text": [
      "(35, 33)\n"
     ]
    }
   ],
   "source": [
    "# wavelength is the first dimension\n",
    "# y is the second dimension\n",
    "# x is the third dimension\n",
    "\n",
    "flux = hdulist[1].data\n",
    "\n",
    "flux_min = np.nanmin(flux.flatten())\n",
    "flux_max = np.nanmax(flux.flatten())\n",
    "\n",
    "print(flux[2].shape)"
   ]
  },
  {
   "cell_type": "code",
   "execution_count": 28,
   "metadata": {},
   "outputs": [
    {
     "name": "stderr",
     "output_type": "stream",
     "text": [
      "<ipython-input-28-36da3e92349d>:17: MatplotlibDeprecationWarning: The 'cmap' parameter to Colorbar has no effect because it is overridden by the mappable; it is deprecated since 3.3 and will be removed two minor releases later.\n",
      "  cbar = plt.colorbar(im, cmap = 'hot')\n"
     ]
    }
   ],
   "source": [
    "for wav_id in range(0, len(wavelengths)):\n",
    "\n",
    "    fig, ax = plt.subplots(figsize = (15, 15))\n",
    "\n",
    "    ax.tick_params(labelsize = 34, pad = 10)\n",
    "    ax.set_xlabel(r'$x$ (kpc)', fontsize = 34)\n",
    "    ax.set_ylabel(r'$y$ (kpc)', fontsize = 34)\n",
    "    ax.set_title(r'Fluxmap ($\\lambda$ = {} $\\mu$m)'.format(str(round(wavelengths[wav_id], 2))), fontsize = 34)\n",
    "    \n",
    "    rect = patches.Rectangle(((x_min+x_max)/2 - 7.5, (y_min+y_max)/2 - 7.5), 15, 15,\n",
    "                             linewidth=10,edgecolor='black',facecolor='none')\n",
    "    ax.add_patch(rect)\n",
    "\n",
    "    im = ax.imshow(flux[wav_id], cmap='hot', extent = [x_min, x_max, y_min, y_max])\n",
    "    im.set_clim(vmin = flux_min, vmax = flux_max)\n",
    "\n",
    "    cbar = plt.colorbar(im, cmap = 'hot')\n",
    "\n",
    "    cbar.ax.tick_params(labelsize = 34)\n",
    "    cbar.ax.set_xlabel('Flux', fontsize = 34)\n",
    "\n",
    "    plt.savefig(sdir_fluxmaps + '{}-fluxmap.png'.format(wav_id))\n",
    "    plt.close()"
   ]
  },
  {
   "cell_type": "code",
   "execution_count": null,
   "metadata": {},
   "outputs": [],
   "source": []
  }
 ],
 "metadata": {
  "kernelspec": {
   "display_name": "Python 3",
   "language": "python",
   "name": "python3"
  },
  "language_info": {
   "codemirror_mode": {
    "name": "ipython",
    "version": 3
   },
   "file_extension": ".py",
   "mimetype": "text/x-python",
   "name": "python",
   "nbconvert_exporter": "python",
   "pygments_lexer": "ipython3",
   "version": "3.8.5"
  }
 },
 "nbformat": 4,
 "nbformat_minor": 4
}
