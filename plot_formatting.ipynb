{
 "cells": [
  {
   "cell_type": "code",
   "execution_count": 1,
   "metadata": {},
   "outputs": [],
   "source": [
    "from pylab import *\n",
    "from matplotlib.ticker import MultipleLocator\n",
    "from matplotlib.patches import Polygon\n",
    "import scipy.constants as cst\n",
    "from astropy.io import ascii, fits\n",
    "from scipy.signal.signaltools import wiener\n",
    "from astropy.convolution import Gaussian1DKernel, convolve\n",
    "\n",
    "fig_width_pt = 469.75499                # Get this from LaTeX using \\showthe\\columnwidth\n",
    "inches_per_pt = 1.0/72.27               # Convert pt to inch\n",
    "golden_mean = (sqrt(5)-1.0)/2.0         # Aesthetic ratio\n",
    "fig_width = fig_width_pt*inches_per_pt  # width in inches\n",
    "fig_height = fig_width * golden_mean * 1.1   # height in inches\n",
    "fig_size =  [fig_width,fig_height]\n",
    "params = {'backend': 'pdf',\n",
    "          'axes.linewidth': 1.5,\n",
    "          'axes.spines.top': False,\n",
    "          'axes.spines.right': False,\n",
    "          'axes.labelsize': 16,\n",
    "          'font.size': 14,\n",
    "          'legend.fontsize': 14,\n",
    "          'xtick.labelsize': 14,\n",
    "          'ytick.labelsize': 14,\n",
    "          'lines.dash_joinstyle' : 'round',\n",
    "          'lines.dash_capstyle' : 'round',\n",
    "          'lines.solid_joinstyle' : 'round',\n",
    "          'lines.solid_capstyle' : 'round',\n",
    "          'text.usetex': False,\n",
    "          'mathtext.fontset' : 'stixsans',\n",
    "          'mathtext.default' : 'rm',\n",
    "          'xtick.direction' : 'in',\n",
    "          'ytick.direction' : 'in',\n",
    "          'xtick.top' : False,\n",
    "          'ytick.right' : False,\n",
    "          'figure.figsize': fig_size}\n",
    "rcParams.update(params)\n",
    "#~~~~~~~~~~~~~~~~~~~~~~~~~~~"
   ]
  },
  {
   "cell_type": "code",
   "execution_count": 2,
   "metadata": {},
   "outputs": [
    {
     "data": {
      "text/plain": [
       "[<matplotlib.lines.Line2D at 0x7fae555156a0>]"
      ]
     },
     "execution_count": 2,
     "metadata": {},
     "output_type": "execute_result"
    },
    {
     "data": {
      "image/png": "[encoded data removed]",
      "text/plain": [
       "<Figure size 468x318.164 with 1 Axes>"
      ]
     },
     "metadata": {
      "needs_background": "light"
     },
     "output_type": "display_data"
    }
   ],
   "source": [
    "figure(1)\n",
    "clf()\n",
    "ax = gca()\n",
    "xlabel(r'Restframe $\\lambda$ ($\\mu m$)')\n",
    "ylabel(r'$F_\\nu$ (Jy)')\n",
    "\n",
    "plot([0, 1], [0, 1])"
   ]
  },
  {
   "cell_type": "code",
   "execution_count": null,
   "metadata": {},
   "outputs": [],
   "source": []
  }
 ],
 "metadata": {
  "kernelspec": {
   "display_name": "Python 3",
   "language": "python",
   "name": "python3"
  },
  "language_info": {
   "codemirror_mode": {
    "name": "ipython",
    "version": 3
   },
   "file_extension": ".py",
   "mimetype": "text/x-python",
   "name": "python",
   "nbconvert_exporter": "python",
   "pygments_lexer": "ipython3",
   "version": "3.8.5"
  }
 },
 "nbformat": 4,
 "nbformat_minor": 4
}
