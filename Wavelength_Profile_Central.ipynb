{
 "cells": [
  {
   "cell_type": "code",
   "execution_count": 1,
   "metadata": {},
   "outputs": [],
   "source": [
    "from astropy.io import fits\n",
    "import matplotlib.pyplot as plt\n",
    "import numpy as np\n",
    "import os"
   ]
  },
  {
   "cell_type": "code",
   "execution_count": 2,
   "metadata": {},
   "outputs": [
    {
     "name": "stdout",
     "output_type": "stream",
     "text": [
      "Enter the working directory: /Users/thepoetoftwilight/Documents/SOFIA_FIFI_Cycle-8/Data/NGC_5253_sw_1/\n",
      "Enter the FITS file name: NGC_5253_sw_1.fits\n"
     ]
    }
   ],
   "source": [
    "sdir = str(input('Enter the working directory: '))\n",
    "fits_name = str(input('Enter the FITS file name: '))\n",
    "\n",
    "sdir_spectra = sdir + 'Spectra/'\n",
    "\n",
    "if not os.path.exists(sdir_spectra):\n",
    "    os.makedirs(sdir_spectra)  "
   ]
  },
  {
   "cell_type": "code",
   "execution_count": 3,
   "metadata": {},
   "outputs": [
    {
     "name": "stdout",
     "output_type": "stream",
     "text": [
      "Filename: /Users/thepoetoftwilight/Documents/SOFIA_FIFI_Cycle-8/Data/NGC_5253_sw_1/NGC_5253_sw_1.fits\n",
      "No.    Name      Ver    Type      Cards   Dimensions   Format\n",
      "  0  PRIMARY       1 PrimaryHDU     311   ()      \n",
      "  1  FLUX          1 ImageHDU        28   (33, 35, 56)   float64   \n",
      "  2  ERROR         1 ImageHDU        28   (33, 35, 56)   float64   \n",
      "  3  UNCORRECTED_FLUX    1 ImageHDU        28   (33, 35, 56)   float64   \n",
      "  4  UNCORRECTED_ERROR    1 ImageHDU        28   (33, 35, 56)   float64   \n",
      "  5  WAVELENGTH    1 ImageHDU         7   (56,)   float64   \n",
      "  6  X             1 ImageHDU         7   (33,)   float64   \n",
      "  7  Y             1 ImageHDU         7   (35,)   float64   \n",
      "  8  TRANSMISSION    1 ImageHDU         7   (56,)   float64   \n",
      "  9  RESPONSE      1 ImageHDU         7   (56,)   float32   \n",
      " 10  EXPOSURE_MAP    1 ImageHDU        28   (33, 35, 56)   int16   \n",
      " 11  UNSMOOTHED_TRANSMISSION    1 ImageHDU         8   (1540, 2)   float32   \n"
     ]
    }
   ],
   "source": [
    "hdulist = fits.open(sdir + fits_name)\n",
    "\n",
    "hdulist.info()"
   ]
  },
  {
   "cell_type": "code",
   "execution_count": 4,
   "metadata": {},
   "outputs": [],
   "source": [
    "wavelengths = hdulist[5].data\n",
    "\n",
    "x_coords = hdulist[6].data\n",
    "x_min = x_coords[0]\n",
    "x_max = x_coords[len(x_coords)-1]\n",
    "\n",
    "y_coords = hdulist[7].data\n",
    "y_min = y_coords[0]\n",
    "y_max = y_coords[len(y_coords)-1]"
   ]
  },
  {
   "cell_type": "code",
   "execution_count": 5,
   "metadata": {},
   "outputs": [
    {
     "name": "stdout",
     "output_type": "stream",
     "text": [
      "(56, 35, 33)\n"
     ]
    }
   ],
   "source": [
    "# wavelength is the first dimension\n",
    "# y is the second dimension\n",
    "# x is the third dimension\n",
    "\n",
    "fluxmaps = hdulist[1].data\n",
    "\n",
    "fluxmaps_min = np.nanmin(fluxmaps.flatten())\n",
    "fluxmaps_max = np.nanmax(fluxmaps.flatten())\n",
    "\n",
    "print(fluxmaps.shape)"
   ]
  },
  {
   "cell_type": "code",
   "execution_count": 6,
   "metadata": {},
   "outputs": [],
   "source": [
    "def sum_spaxel(fluxmap, k_x, k_y):\n",
    "    \n",
    "    n_x = len(fluxmap[0])\n",
    "    n_y = len(fluxmap)\n",
    "    \n",
    "    id_x = np.arange(np.floor((n_x-k_x)/2), np.floor((n_x-k_x)/2) + k_x, 1)\n",
    "    id_x = id_x.astype(int)\n",
    "    \n",
    "    id_y = np.arange(np.floor((n_y-k_y)/2), np.floor((n_y-k_y)/2) + k_y, 1)\n",
    "    id_y = id_y.astype(int)\n",
    "    \n",
    "    central_fluxmap = []\n",
    "    \n",
    "    for j in id_y:\n",
    "        \n",
    "        y_snip = []\n",
    "        \n",
    "        for i in id_x:\n",
    "            \n",
    "            y_snip.append(fluxmap[j][i])\n",
    "            \n",
    "        central_fluxmap.append(y_snip)\n",
    "            \n",
    "    central_fluxmap = np.array(central_fluxmap)\n",
    "    \n",
    "    central_flux = np.sum(central_fluxmap)\n",
    "    \n",
    "    return central_flux"
   ]
  },
  {
   "cell_type": "code",
   "execution_count": 7,
   "metadata": {},
   "outputs": [],
   "source": [
    "central_fluxes = []\n",
    "\n",
    "n_x = 3\n",
    "n_y = 3\n",
    "\n",
    "for fluxmap in fluxmaps:\n",
    "    \n",
    "    central_flux = sum_spaxel(fluxmap, n_x, n_y)\n",
    "    central_fluxes.append(central_flux)\n",
    "    \n",
    "central_fluxes = np.array(central_fluxes)"
   ]
  },
  {
   "cell_type": "code",
   "execution_count": 8,
   "metadata": {},
   "outputs": [],
   "source": [
    "fig, ax = plt.subplots(figsize = (18, 13))\n",
    "\n",
    "ax.plot(wavelengths, central_fluxes, label = '3 x 3', lw = 5, color = 'orange')\n",
    "\n",
    "ax.set_xlabel(r'$\\lambda$ (nm)', fontsize = 38, labelpad = 5)\n",
    "ax.set_ylabel('Flux', fontsize = 38, labelpad = 10)\n",
    "\n",
    "ax.tick_params(labelsize = 38, pad = 10)\n",
    "ax.yaxis.offsetText.set_fontsize(36)\n",
    "\n",
    "ax.legend(prop={'size': 38}, loc = 'upper right')\n",
    "\n",
    "plt.savefig(sdir_spectra + '{0}x{1}-spectrum.png'.format(str(n_x), str(n_y)))\n",
    "plt.close()"
   ]
  },
  {
   "cell_type": "code",
   "execution_count": null,
   "metadata": {},
   "outputs": [],
   "source": []
  }
 ],
 "metadata": {
  "kernelspec": {
   "display_name": "Python 3",
   "language": "python",
   "name": "python3"
  },
  "language_info": {
   "codemirror_mode": {
    "name": "ipython",
    "version": 3
   },
   "file_extension": ".py",
   "mimetype": "text/x-python",
   "name": "python",
   "nbconvert_exporter": "python",
   "pygments_lexer": "ipython3",
   "version": "3.7.6"
  }
 },
 "nbformat": 4,
 "nbformat_minor": 4
}
