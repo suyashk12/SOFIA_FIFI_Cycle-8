{
 "cells": [
  {
   "cell_type": "code",
   "execution_count": 2,
   "metadata": {},
   "outputs": [],
   "source": [
    "from astropy.io import fits\n",
    "import matplotlib.pyplot as plt\n",
    "import numpy as np\n",
    "import os"
   ]
  },
  {
   "cell_type": "code",
   "execution_count": 3,
   "metadata": {},
   "outputs": [
    {
     "name": "stdout",
     "output_type": "stream",
     "text": [
      "Enter the working directory: /Users/thepoetoftwilight/Documents/Prof. Malkan's Research/Data/NGC_4631_lw_2/\n",
      "Enter the FITS file name: NGC_4631_lw_2.fits\n"
     ]
    }
   ],
   "source": [
    "sdir = str(input('Enter the working directory: '))\n",
    "fits_name = str(input('Enter the FITS file name: '))\n",
    "\n",
    "sdir_fluxmaps = sdir + 'Fluxmaps/'\n",
    "sdir_spectra = sdir + 'Spectra/'\n",
    "\n",
    "if not os.path.exists(sdir_fluxmaps):\n",
    "    os.makedirs(sdir_fluxmaps)\n",
    "    \n",
    "if not os.path.exists(sdir_spectra):\n",
    "    os.makedirs(sdir_spectra)  "
   ]
  },
  {
   "cell_type": "code",
   "execution_count": 5,
   "metadata": {},
   "outputs": [],
   "source": [
    "hdulist = fits.open(sdir + fits_name)"
   ]
  },
  {
   "cell_type": "code",
   "execution_count": 6,
   "metadata": {},
   "outputs": [
    {
     "name": "stdout",
     "output_type": "stream",
     "text": [
      "Filename: /Users/thepoetoftwilight/Documents/Prof. Malkan's Research/Data/NGC_4631_lw_2/NGC_4631_lw_2.fits\n",
      "No.    Name      Ver    Type      Cards   Dimensions   Format\n",
      "  0  PRIMARY       1 PrimaryHDU     311   ()      \n",
      "  1  FLUX          1 ImageHDU        28   (41, 33, 54)   float64   \n",
      "  2  ERROR         1 ImageHDU        28   (41, 33, 54)   float64   \n",
      "  3  UNCORRECTED_FLUX    1 ImageHDU        28   (41, 33, 54)   float64   \n",
      "  4  UNCORRECTED_ERROR    1 ImageHDU        28   (41, 33, 54)   float64   \n",
      "  5  WAVELENGTH    1 ImageHDU         7   (54,)   float64   \n",
      "  6  X             1 ImageHDU         7   (41,)   float64   \n",
      "  7  Y             1 ImageHDU         7   (33,)   float64   \n",
      "  8  TRANSMISSION    1 ImageHDU         7   (54,)   float64   \n",
      "  9  RESPONSE      1 ImageHDU         7   (54,)   float32   \n",
      " 10  EXPOSURE_MAP    1 ImageHDU        28   (41, 33, 54)   int16   \n",
      " 11  UNSMOOTHED_TRANSMISSION    1 ImageHDU         8   (606, 2)   float32   \n"
     ]
    }
   ],
   "source": [
    "hdulist.info()"
   ]
  },
  {
   "cell_type": "code",
   "execution_count": 7,
   "metadata": {},
   "outputs": [],
   "source": [
    "wavelengths = hdulist[5].data\n",
    "\n",
    "x_coords = hdulist[6].data\n",
    "x_min = x_coords[0]\n",
    "x_max = x_coords[len(x_coords)-1]\n",
    "\n",
    "y_coords = hdulist[7].data\n",
    "y_min = y_coords[0]\n",
    "y_max = y_coords[len(y_coords)-1]"
   ]
  },
  {
   "cell_type": "code",
   "execution_count": 8,
   "metadata": {},
   "outputs": [
    {
     "name": "stdout",
     "output_type": "stream",
     "text": [
      "(33, 41)\n"
     ]
    }
   ],
   "source": [
    "# wavelength is the first dimension\n",
    "# y is the second dimension\n",
    "# x is the third dimension\n",
    "\n",
    "flux = hdulist[1].data\n",
    "\n",
    "flux_min = np.nanmin(flux.flatten())\n",
    "flux_max = np.nanmax(flux.flatten())\n",
    "\n",
    "print(flux[2].shape)"
   ]
  },
  {
   "cell_type": "code",
   "execution_count": 8,
   "metadata": {},
   "outputs": [],
   "source": [
    "for wav_id in range(0, len(wavelengths)):\n",
    "    \n",
    "    fig, ax = plt.subplots(figsize = (15, 15))\n",
    "\n",
    "    ax.tick_params(labelsize = 34, pad = 10)\n",
    "    ax.set_xlabel(r'$x$ (kpc)', fontsize = 34)\n",
    "    ax.set_ylabel(r'$y$ (kpc)', fontsize = 34)\n",
    "    ax.set_title(r'Fluxmap ($\\lambda$ = {} nm)'.format(str(round(wavelengths[wav_id], 2))), fontsize = 34)\n",
    "\n",
    "    im = ax.imshow(flux[wav_id], cmap='hot', extent = [x_min, x_max, y_min, y_max])\n",
    "    im.set_clim(vmin = flux_min, vmax = flux_max)\n",
    "\n",
    "    cbar = plt.colorbar(im, cmap = 'hot')\n",
    "\n",
    "    cbar.ax.tick_params(labelsize = 34)\n",
    "    cbar.ax.set_xlabel('Flux', fontsize = 34)\n",
    "\n",
    "    plt.savefig(sdir_fluxmaps + '{}-fluxmap.png'.format(wav_id))\n",
    "    plt.close()"
   ]
  },
  {
   "cell_type": "code",
   "execution_count": null,
   "metadata": {},
   "outputs": [],
   "source": []
  }
 ],
 "metadata": {
  "kernelspec": {
   "display_name": "Python 3",
   "language": "python",
   "name": "python3"
  },
  "language_info": {
   "codemirror_mode": {
    "name": "ipython",
    "version": 3
   },
   "file_extension": ".py",
   "mimetype": "text/x-python",
   "name": "python",
   "nbconvert_exporter": "python",
   "pygments_lexer": "ipython3",
   "version": "3.7.6"
  }
 },
 "nbformat": 4,
 "nbformat_minor": 4
}
