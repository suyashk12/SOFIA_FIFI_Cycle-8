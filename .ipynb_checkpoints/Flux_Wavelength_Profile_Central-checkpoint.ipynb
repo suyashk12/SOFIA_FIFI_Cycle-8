{
 "cells": [
  {
   "cell_type": "code",
   "execution_count": 38,
   "metadata": {},
   "outputs": [],
   "source": [
    "from astropy.io import fits\n",
    "import matplotlib.pyplot as plt\n",
    "import numpy as np\n",
    "import os"
   ]
  },
  {
   "cell_type": "code",
   "execution_count": 39,
   "metadata": {},
   "outputs": [
    {
     "name": "stdout",
     "output_type": "stream",
     "text": [
      "Enter the working directory: /Users/thepoetoftwilight/Documents/Prof. Malkan's Research/Data/NGC_4631_sw_1/\n",
      "Enter the FITS file name: NGC_4631_sw_1.fits\n"
     ]
    }
   ],
   "source": [
    "sdir = str(input('Enter the working directory: '))\n",
    "fits_name = str(input('Enter the FITS file name: '))\n",
    "\n",
    "sdir_fluxmaps = sdir + 'Fluxmaps/'\n",
    "sdir_spectra = sdir + 'Spectra/'\n",
    "\n",
    "if not os.path.exists(sdir_fluxmaps):\n",
    "    os.makedirs(sdir_fluxmaps)\n",
    "    \n",
    "if not os.path.exists(sdir_spectra):\n",
    "    os.makedirs(sdir_spectra)  "
   ]
  },
  {
   "cell_type": "code",
   "execution_count": 40,
   "metadata": {},
   "outputs": [],
   "source": [
    "hdulist = fits.open(sdir + fits_name)"
   ]
  },
  {
   "cell_type": "code",
   "execution_count": 41,
   "metadata": {},
   "outputs": [
    {
     "name": "stdout",
     "output_type": "stream",
     "text": [
      "[57.25034319 57.25832029 57.2662974  57.2742745  57.28225161 57.29022871\n",
      " 57.29820581 57.30618292 57.31416002 57.32213713 57.33011423 57.33809134\n",
      " 57.34606844 57.35404554 57.36202265 57.36999975 57.37797686 57.38595396\n",
      " 57.39393106 57.40190817 57.40988527 57.41786238 57.42583948 57.43381658\n",
      " 57.44179369 57.44977079 57.4577479  57.465725   57.4737021  57.48167921\n",
      " 57.48965631 57.49763342 57.50561052 57.51358762 57.52156473 57.52954183\n",
      " 57.53751894 57.54549604 57.55347315 57.56145025 57.56942735 57.57740446\n",
      " 57.58538156 57.59335867 57.60133577 57.60931287 57.61728998]\n",
      "[-14.64548617 -13.64548617 -12.64548617 -11.64548617 -10.64548617\n",
      "  -9.64548617  -8.64548617  -7.64548617  -6.64548617  -5.64548617\n",
      "  -4.64548617  -3.64548617  -2.64548617  -1.64548617  -0.64548617\n",
      "   0.35451383   1.35451383   2.35451383   3.35451383   4.35451383\n",
      "   5.35451383   6.35451383   7.35451383   8.35451383   9.35451383\n",
      "  10.35451383  11.35451383  12.35451383  13.35451383  14.35451383\n",
      "  15.35451383  16.35451383  17.35451383  18.35451383  19.35451383\n",
      "  20.35451383  21.35451383  22.35451383  23.35451383  24.35451383\n",
      "  25.35451383  26.35451383  27.35451383  28.35451383  29.35451383\n",
      "  30.35451383  31.35451383  32.35451383  33.35451383  34.35451383\n",
      "  35.35451383  36.35451383  37.35451383]\n",
      "[-16.92123225 -15.92123225 -14.92123225 -13.92123225 -12.92123225\n",
      " -11.92123225 -10.92123225  -9.92123225  -8.92123225  -7.92123225\n",
      "  -6.92123225  -5.92123225  -4.92123225  -3.92123225  -2.92123225\n",
      "  -1.92123225  -0.92123225   0.07876775   1.07876775   2.07876775\n",
      "   3.07876775   4.07876775   5.07876775   6.07876775   7.07876775\n",
      "   8.07876775   9.07876775  10.07876775  11.07876775  12.07876775\n",
      "  13.07876775  14.07876775  15.07876775  16.07876775  17.07876775\n",
      "  18.07876775  19.07876775  20.07876775  21.07876775  22.07876775]\n"
     ]
    }
   ],
   "source": [
    "wavelengths = hdulist[5].data\n",
    "\n",
    "print(wavelengths)\n",
    "\n",
    "x_coords = hdulist[6].data\n",
    "x_min = x_coords[0]\n",
    "x_max = x_coords[len(x_coords)-1]\n",
    "\n",
    "print(x_coords)\n",
    "\n",
    "y_coords = hdulist[7].data\n",
    "y_min = y_coords[0]\n",
    "y_max = y_coords[len(y_coords)-1]\n",
    "\n",
    "print(y_coords)"
   ]
  },
  {
   "cell_type": "code",
   "execution_count": 43,
   "metadata": {},
   "outputs": [
    {
     "name": "stdout",
     "output_type": "stream",
     "text": [
      "(47, 40, 53)\n"
     ]
    }
   ],
   "source": [
    "# wavelength is the first dimension\n",
    "# y is the second dimension\n",
    "# x is the third dimension\n",
    "\n",
    "fluxes = hdulist[1].data\n",
    "\n",
    "fluxes_min = np.nanmin(flux.flatten())\n",
    "fluxes_max = np.nanmax(flux.flatten())\n",
    "\n",
    "print(fluxes.shape)"
   ]
  },
  {
   "cell_type": "code",
   "execution_count": 47,
   "metadata": {},
   "outputs": [],
   "source": [
    "def emission_line_flux(lambda_0, wavelengths, fluxes):\n",
    "    \n",
    "    error = 0.01\n",
    "    \n",
    "    window_indices = []\n",
    "    \n",
    "    for i in range(0, len(wavelengths)):\n",
    "        \n",
    "        lambda_i = wavelengths[i]\n",
    "        \n",
    "        if(np.abs(lambda_i - lambda_0) <= error):\n",
    "            window_indices.append(i)\n",
    "    \n",
    "    flux = fluxes[window_indices[0]]\n",
    "    \n",
    "    for i in range(1, len(window_indices)):\n",
    "        \n",
    "        flux += fluxes[window_indices[i]]\n",
    "        \n",
    "    flux /= len(window_indices)  \n",
    "    \n",
    "    return flux"
   ]
  },
  {
   "cell_type": "code",
   "execution_count": 59,
   "metadata": {},
   "outputs": [],
   "source": [
    "def sum_spaxel(flux, k_x, k_y):\n",
    "    \n",
    "    n_x = len(flux[0])\n",
    "    n_y = len(flux)\n",
    "    \n",
    "    id_x = np.arange(np.floor((n_x-k_x)/2), np.floor((n_x-k_x)/2) + k_x, 1)\n",
    "    id_x = id_x.astype(int)\n",
    "    \n",
    "    id_y = np.arange(np.floor((n_y-k_y)/2), np.floor((n_y-k_y)/2) + k_y, 1)\n",
    "    id_y = id_y.astype(int)\n",
    "    \n",
    "    central_flux = []\n",
    "    \n",
    "    for j in id_y:\n",
    "        \n",
    "        y_snip = []\n",
    "        \n",
    "        for i in id_x:\n",
    "            \n",
    "            y_snip.append(flux[j][i])\n",
    "            \n",
    "        central_flux.append(y_snip)\n",
    "            \n",
    "    central_flux = np.array(central_flux)\n",
    "    \n",
    "    total_flux = np.sum(central_flux)\n",
    "    \n",
    "    return total_flux"
   ]
  },
  {
   "cell_type": "code",
   "execution_count": 61,
   "metadata": {},
   "outputs": [
    {
     "name": "stdout",
     "output_type": "stream",
     "text": [
      "0.15275665751132578\n"
     ]
    }
   ],
   "source": [
    "NIII = 57.317\n",
    "NIII_fluxes = emission_line_flux(NIII, wavelengths, fluxes)\n",
    "NIII_total_flux = sum_spaxel(NIII_fluxes, 3, 3)\n",
    "\n",
    "print(NIII_total_flux)"
   ]
  },
  {
   "cell_type": "code",
   "execution_count": 58,
   "metadata": {},
   "outputs": [
    {
     "name": "stdout",
     "output_type": "stream",
     "text": [
      "[[ 5.5  6.5  7.5]\n",
      " [ 8.5  9.5 10.5]]\n",
      "[1. 2. 3.]\n",
      "[1 2 3]\n"
     ]
    }
   ],
   "source": [
    "a = np.array([[1, 2, 3], [4, 5, 6]])\n",
    "\n",
    "b = np.array([[10, 11, 12], [13, 14, 15]])\n",
    "\n",
    "c = (a+b)\n",
    "\n",
    "c = c/2\n",
    "\n",
    "print(c)\n",
    "\n",
    "d = np.array([1.0, 2.0, 3.0])\n",
    "print(d)\n",
    "d = d.astype(int)\n",
    "print(d)"
   ]
  },
  {
   "cell_type": "code",
   "execution_count": null,
   "metadata": {},
   "outputs": [],
   "source": []
  }
 ],
 "metadata": {
  "kernelspec": {
   "display_name": "Python 3",
   "language": "python",
   "name": "python3"
  },
  "language_info": {
   "codemirror_mode": {
    "name": "ipython",
    "version": 3
   },
   "file_extension": ".py",
   "mimetype": "text/x-python",
   "name": "python",
   "nbconvert_exporter": "python",
   "pygments_lexer": "ipython3",
   "version": "3.7.6"
  }
 },
 "nbformat": 4,
 "nbformat_minor": 4
}
