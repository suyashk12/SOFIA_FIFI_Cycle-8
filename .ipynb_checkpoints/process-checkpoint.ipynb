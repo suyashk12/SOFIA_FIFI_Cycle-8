{
 "cells": [
  {
   "cell_type": "code",
   "execution_count": null,
   "metadata": {},
   "outputs": [],
   "source": [
    "from astropy.io import fits\n",
    "import matplotlib.pyplot as plt\n",
    "import numpy as np\n",
    "import os\n",
    "from scipy import optimize\n",
    "from matplotlib.ticker import FormatStrFormatter"
   ]
  },
  {
   "cell_type": "code",
   "execution_count": 1,
   "metadata": {},
   "outputs": [],
   "source": [
    "def load_fits(r, galaxy_title, line_name):\n",
    "\n",
    "    galaxy_file = galaxy_title.replace(' ', '_')\n",
    "\n",
    "    line_measurement = 0\n",
    "    addendum = ''\n",
    "\n",
    "    if line_name == '[OIII]':\n",
    "        line_measurement = 52\n",
    "        addendum = 'sw_1'\n",
    "\n",
    "    if line_name == '[NIII]':\n",
    "        line_measurement = 57\n",
    "        addendum = 'sw_2'\n",
    "\n",
    "    titlename = galaxy_title + ' ' + line_name + ' ' + str(line_measurement) + ' ' + r'$\\mu$m, r = {}'.format(str(r))\n",
    "    filename = galaxy_file + '_' + line_name + '_r={}'.format(str(r))\n",
    "    \n",
    "    loaddir = '/Users/thepoetoftwilight/Documents/SOFIA_FIFI_Cycle-8/Data/' + galaxy_file + '_' + addendum + '/'\n",
    "\n",
    "    savedir = loaddir + 'r=' + str(r) + '/'\n",
    "\n",
    "    fits_name = galaxy_file + '_' + addendum + '.fits'\n",
    "    fits_spec_name = galaxy_file + '_' + addendum + '_r={}.fits'.format(str(r))\n",
    "    \n",
    "    hdulist = fits.open(loaddir + fits_name)\n",
    "    hdulist_spec = fits.open(savedir + fits_spec_name)\n",
    "    \n",
    "    return hdulist, hdulist_spec"
   ]
  },
  {
   "cell_type": "code",
   "execution_count": 2,
   "metadata": {},
   "outputs": [],
   "source": [
    "def renormalize_spectra(central_fluxes_unfiltered):\n",
    "    \n",
    "    central_fluxes_unfiltered = [flux*(10**(-26)) for flux in central_fluxes_unfiltered]\n",
    "\n",
    "    c = 3*10**8\n",
    "\n",
    "    for i in range(0, len(wavelengths)):\n",
    "\n",
    "        wavelength = wavelengths[i]\n",
    "\n",
    "        central_fluxes_unfiltered[i] = central_fluxes_unfiltered[i]*(c/(wavelength*10**(-6))**2)*(10**(-6))\n",
    "\n",
    "    central_fluxes_unfiltered = np.array(central_fluxes_unfiltered)\n",
    "    \n",
    "    return central_fluxes_unfiltered"
   ]
  },
  {
   "cell_type": "code",
   "execution_count": null,
   "metadata": {},
   "outputs": [],
   "source": [
    "def filter_spectra(lower_ind, upper_ind, wavelengths, central_fluxes_unfiltered): \n",
    "\n",
    "    wavelengths_filtered = wavelengths[lower_ind:upper_ind+1]\n",
    "    central_fluxes_filtered = central_fluxes_unfiltered[lower_ind:upper_ind+1]\n",
    "    \n",
    "    return wavelengths_filtered, central_fluxes_filtered"
   ]
  },
  {
   "cell_type": "code",
   "execution_count": null,
   "metadata": {},
   "outputs": [],
   "source": [
    "def identify_continuum(left_cut, right_cut, wavelengths_filtered, central_fluxes_filtered):\n",
    "    \n",
    "    for i in range(0, len(wavelengths_filtered)):\n",
    "\n",
    "        wavelength = wavelengths_filtered[i]\n",
    "\n",
    "        if(wavelength < left_cut or wavelength > right_cut):\n",
    "            central_fluxes_filtered_continuum.append(central_fluxes_filtered[i])\n",
    "\n",
    "        else:\n",
    "            central_fluxes_filtered_continuum.append(float(\"Nan\"))\n",
    "\n",
    "    central_fluxes_filtered_continuum = np.array(central_fluxes_filtered_continuum)\n",
    "\n",
    "    idcont = np.isfinite(central_fluxes_filtered_continuum)\n",
    "    cont_params = np.polyfit(wavelengths_filtered[idcont], central_fluxes_filtered_continuum[idcont], 1)\n",
    "    \n",
    "    return central_fluxes_filtered_continuum, cont_params"
   ]
  },
  {
   "cell_type": "code",
   "execution_count": null,
   "metadata": {},
   "outputs": [],
   "source": [
    "def subtract_continuum(central_fluxes_filtered_continuum, cont_params, wavelengths_filtered, central_fluxes_filtered):\n",
    "    \n",
    "    cont_line_filtered = cont_params[0]*wavelengths_filtered + cont_params[1]\n",
    "    \n",
    "    id_act = np.isnan(central_fluxes_filtered_continuum)\n",
    "\n",
    "    wavelengths_act = wavelengths_filtered[id_act]\n",
    "    central_fluxes_filtered_act = central_fluxes_filtered[id_act]\n",
    "    cont_line_filtered_act = cont_line_filtered[id_act]\n",
    "\n",
    "    central_fluxes_continuum_subtracted_act = central_fluxes_filtered_act - cont_line_filtered_act\n",
    "    \n",
    "    return wavelengths_act, central_fluxes_continuum_subtracted_act"
   ]
  },
  {
   "cell_type": "code",
   "execution_count": null,
   "metadata": {},
   "outputs": [],
   "source": [
    "def fit_gaussian(wavelengths_act, central_fluxes_continuum_subtracted_act):\n",
    "    \n",
    "    heights = central_fluxes_continuum_subtracted_act/np.max(central_fluxes_continuum_subtracted_act)\n",
    "\n",
    "    centers = wavelengths_act\n",
    "\n",
    "    # Information about the peak in the numerical PDF\n",
    "    peak_ind = np.where(heights == np.max(heights))[0][0]\n",
    "    peak_height = np.max(heights)\n",
    "\n",
    "    # mu is where the numerical PDF peaks\n",
    "    mu = centers[peak_ind]\n",
    "\n",
    "    # Estimating sigma using FWHM\n",
    "    sigma = 0\n",
    "\n",
    "    for i in range(0, peak_ind):\n",
    "        if(heights[i] >= peak_height/2):\n",
    "            sigma = (mu - centers[i])/np.sqrt(2*np.log(2))\n",
    "            break\n",
    "\n",
    "    # First fit a Gaussian\n",
    "\n",
    "    guess_params = np.array([peak_height, sigma])\n",
    "    fit_params, fit_covar = optimize.curve_fit(lambda centers, peak_height, sigma: \n",
    "                                               fit_func_1(centers, peak_height, mu, sigma), \n",
    "                                               centers, heights, p0=guess_params)\n",
    "\n",
    "    fit_params = [fit_params[0], mu, fit_params[1]]\n",
    "\n",
    "    fit_params[0] *= np.max(central_fluxes_continuum_subtracted_act)\n",
    "    \n",
    "    return(fit_params)"
   ]
  },
  {
   "cell_type": "code",
   "execution_count": null,
   "metadata": {},
   "outputs": [],
   "source": [
    "def overlay(wavelengths_filtered, fit_params):\n",
    "    \n",
    "    wavelength_range = np.arange(np.min(wavelengths_filtered), np.max(wavelengths_filtered), 0.001)\n",
    "    cont_line_filtered = cont_params[0]*wavelength_range + cont_params[1]\n",
    "\n",
    "    fitted_central_fluxes_act = fit_func_1(wavelength_range, *fit_params) + cont_line_filtered\n",
    "    \n",
    "    return wavelength_range, cont_line_filtered, fitted_central_fluxes_act"
   ]
  },
  {
   "cell_type": "code",
   "execution_count": null,
   "metadata": {},
   "outputs": [],
   "source": [
    "def compute_fluxes(wavelengths_filtered, wavelength_range, cont_line_filtered, central_fluxes_filtered, \n",
    "                   fitted_central_fluxes_act):\n",
    "    \n",
    "    flux_continuum = np.trapz(cont_line_filtered, x = wavelength_range, dx = wav_diff)\n",
    "\n",
    "    flux_obs = np.trapz(central_fluxes_filtered, x = wavelengths_filtered, dx = wav_diff)\n",
    "    flux_obs_sub = flux_obs - flux_continuum\n",
    "\n",
    "    flux_fit = np.trapz(fitted_central_fluxes_act, x = wavelength_range, dx = wav_diff)\n",
    "    flux_fit_sub = flux_fit - flux_continuum\n",
    "    \n",
    "    return flux_continuum, flux_obs_sub, flux_fit_sub"
   ]
  },
  {
   "cell_type": "code",
   "execution_count": null,
   "metadata": {},
   "outputs": [],
   "source": []
  }
 ],
 "metadata": {
  "kernelspec": {
   "display_name": "Python 3",
   "language": "python",
   "name": "python3"
  },
  "language_info": {
   "codemirror_mode": {
    "name": "ipython",
    "version": 3
   },
   "file_extension": ".py",
   "mimetype": "text/x-python",
   "name": "python",
   "nbconvert_exporter": "python",
   "pygments_lexer": "ipython3",
   "version": "3.8.5"
  }
 },
 "nbformat": 4,
 "nbformat_minor": 4
}
